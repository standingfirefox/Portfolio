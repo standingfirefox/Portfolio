{
 "cells": [
  {
   "cell_type": "markdown",
   "metadata": {},
   "source": [
    "### В этом файле расположены ссылки на другие проекты.\n",
    "\n",
     
    "[Проект (Анализ бизнес модели) с использованием Google Sheets](https://docs.google.com/spreadsheets/d/1BnZWFVf-MpCspNhUoBZT_SHGo9NRl0MOCIluYu7CKnM/edit?usp=sharing)\n",
    "\n",
    "[Визуализация (Анализ рынка мочевины) с PowerPoint](https://docs.google.com/presentation/d/121ZEKNYjplC7jmjmPUR1vNtJTXkd_g2l/edit?usp=sharing&ouid=108517861638009566889&rtpof=true&sd=true)"
   ]
  },
  {
   "cell_type": "markdown",
   "metadata": {},
   "source": []
  }
 ],
 "metadata": {
  "language_info": {
   "name": "python"
  }
 },
 "nbformat": 4,
 "nbformat_minor": 2
}
