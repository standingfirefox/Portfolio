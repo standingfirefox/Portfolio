{
 "cells": [
  {
   "cell_type": "code",
   "execution_count": 1,
   "metadata": {},
   "outputs": [],
   "source": [
    "#ипмпортируем необходимые библиотеки\n",
    "import pandas as pd\n",
    "import matplotlib.pyplot as plt\n",
    "import scipy.stats as stats\n",
    "import numpy as np"
   ]
  },
  {
   "cell_type": "code",
   "execution_count": 3,
   "metadata": {},
   "outputs": [],
   "source": [
    "#импортируем данные\n",
    "df = pd.read_excel(r'C:\\Users\\Maksim\\Downloads\\train.xlsx')"
   ]
  },
  {
   "cell_type": "code",
   "execution_count": 9,
   "metadata": {},
   "outputs": [
    {
     "name": "stdout",
     "output_type": "stream",
     "text": [
      "     ID Order Date     Class       Region Sub-Category     Sales\n",
      "0   646 2018-12-30  Стандарт         Урал   Appliances  37229.08\n",
      "1   907 2018-12-30  Стандарт  Владивосток    Bookcases  20994.61\n",
      "2   908 2018-12-30  Стандарт  Владивосток       Phones  42133.86\n",
      "3   909 2018-12-30  Стандарт  Владивосток      Binders  10612.00\n",
      "4  1297 2018-12-30  Стандарт   Калиниград      Binders  28781.13 \n",
      "\n",
      "<class 'pandas.core.frame.DataFrame'>\n",
      "RangeIndex: 9800 entries, 0 to 9799\n",
      "Data columns (total 6 columns):\n",
      " #   Column        Non-Null Count  Dtype         \n",
      "---  ------        --------------  -----         \n",
      " 0   ID            9800 non-null   int64         \n",
      " 1   Order Date    9800 non-null   datetime64[ns]\n",
      " 2   Class         9800 non-null   object        \n",
      " 3   Region        9800 non-null   object        \n",
      " 4   Sub-Category  9800 non-null   object        \n",
      " 5   Sales         9800 non-null   float64       \n",
      "dtypes: datetime64[ns](1), float64(1), int64(1), object(3)\n",
      "memory usage: 459.5+ KB\n",
      "None \n",
      "\n",
      "                 ID                     Order Date     Class      Region  \\\n",
      "count   9800.000000                           9800      9800        9800   \n",
      "unique          NaN                            NaN         4           4   \n",
      "top             NaN                            NaN  Стандарт  Калиниград   \n",
      "freq            NaN                            NaN      5859        3140   \n",
      "mean    4900.500000  2017-05-01 05:13:51.673469184       NaN         NaN   \n",
      "min        1.000000            2015-01-03 00:00:00       NaN         NaN   \n",
      "25%     2450.750000            2016-05-24 00:00:00       NaN         NaN   \n",
      "50%     4900.500000            2017-06-26 00:00:00       NaN         NaN   \n",
      "75%     7350.250000            2018-05-15 00:00:00       NaN         NaN   \n",
      "max     9800.000000            2018-12-30 00:00:00       NaN         NaN   \n",
      "std     2829.160653                            NaN       NaN         NaN   \n",
      "\n",
      "       Sub-Category         Sales  \n",
      "count          9800   9800.000000  \n",
      "unique           17           NaN  \n",
      "top         Binders           NaN  \n",
      "freq           1492           NaN  \n",
      "mean            NaN  22921.757737  \n",
      "min             NaN   1002.794000  \n",
      "25%             NaN  12135.625000  \n",
      "50%             NaN  22882.060000  \n",
      "75%             NaN  33730.130000  \n",
      "max             NaN  44995.410000  \n",
      "std             NaN  12601.999815  \n"
     ]
    }
   ],
   "source": [
    "#проведем разведывательный анализ данных (EDA)\n",
    "print(df.head(), '\\n')\n",
    "print(df.info(), '\\n')\n",
    "print(df.describe(include= 'all'))"
   ]
  },
  {
   "cell_type": "markdown",
   "metadata": {},
   "source": [
    "Пропущенных значений нет, белый шум не наблюдается."
   ]
  },
  {
   "cell_type": "code",
   "execution_count": 65,
   "metadata": {},
   "outputs": [
    {
     "name": "stdout",
     "output_type": "stream",
     "text": [
      "   Sub-Category     Sales_sum  ID_count\n",
      "3       Binders 33 911 974.30      1492\n",
      "12        Paper 30 690 768.27      1338\n",
      "9   Furnishings 21 565 065.95       931\n",
      "13       Phones 20 343 265.96       876 \n",
      "\n",
      "   Sub-Category     Sales_sum  ID_count\n",
      "3       Binders 33 911 974.30      1492\n",
      "12        Paper 30 690 768.27      1338\n",
      "9   Furnishings 21 565 065.95       931\n",
      "13       Phones 20 343 265.96       876\n"
     ]
    }
   ],
   "source": [
    "#Задание 1_а\n",
    "task1_a = df.groupby('Sub-Category', as_index=False).agg({'Sales': 'sum', 'ID': 'count'})\n",
    "task1_a.columns = ['Sub-Category', 'Sales_sum', 'ID_count']\n",
    "#для удобства выведем цифры в читаемом виде\n",
    "print(task1_a.sort_values('Sales_sum', ascending= False)[:4].to_string(float_format='{:,.2f}'.format).replace(',', ' ') , '\\n')\n",
    "print(task1_a.sort_values('ID_count', ascending= False)[:4].to_string(float_format='{:,.2f}'.format).replace(',', ' '))"
   ]
  },
  {
   "cell_type": "markdown",
   "metadata": {},
   "source": [
    "В нашем случае частота продаж совпала с суммой продаж, четыре самые популярные категории: 'Binders', 'Paper', 'Furnishings', 'Phones'."
   ]
  },
  {
   "cell_type": "code",
   "execution_count": 70,
   "metadata": {},
   "outputs": [
    {
     "name": "stdout",
     "output_type": "stream",
     "text": [
      "   Sub-Category     Sales_sum  ID_count\n",
      "3       Binders 20 332 043.22       900\n",
      "12        Paper 19 112 040.45       809\n",
      "9   Furnishings 12 594 092.00       557\n",
      "13       Phones 12 030 705.09       510 \n",
      "\n",
      "   Sub-Category     Sales_sum  ID_count\n",
      "3       Binders 20 332 043.22       900\n",
      "12        Paper 19 112 040.45       809\n",
      "9   Furnishings 12 594 092.00       557\n",
      "13       Phones 12 030 705.09       510\n"
     ]
    }
   ],
   "source": [
    "#Задание 1_b\n",
    "last_two_years = sorted(df['Order Date'].dt.year.unique())[-2:]\n",
    "task1_b = df[df['Order Date'].dt.year.isin(last_two_years)].groupby('Sub-Category', as_index=False).agg({'Sales': 'sum', 'ID': 'count'})\n",
    "task1_b.columns = ['Sub-Category', 'Sales_sum', 'ID_count']\n",
    "#для удобства выведем цифры в читаемом виде\n",
    "print(task1_b.sort_values('Sales_sum', ascending= False)[:4].to_string(float_format='{:,.2f}'.format).replace(',', ' ') , '\\n')\n",
    "print(task1_b.sort_values('ID_count', ascending= False)[:4].to_string(float_format='{:,.2f}'.format).replace(',', ' '))"
   ]
  },
  {
   "cell_type": "markdown",
   "metadata": {},
   "source": [
    "Видим те же категории, что и в предыдущем задании."
   ]
  },
  {
   "cell_type": "code",
   "execution_count": 73,
   "metadata": {},
   "outputs": [
    {
     "name": "stdout",
     "output_type": "stream",
     "text": [
      "   Sub-Category     Sales_sum  ID_count\n",
      "3       Binders 11 431 527.00       492\n",
      "12        Paper 10 616 645.21       452\n",
      "9   Furnishings  7 317 575.78       310\n",
      "13       Phones  6 730 458.18       290 \n",
      "\n",
      "   Sub-Category     Sales_sum  ID_count\n",
      "3       Binders 11 431 527.00       492\n",
      "12        Paper 10 616 645.21       452\n",
      "9   Furnishings  7 317 575.78       310\n",
      "13       Phones  6 730 458.18       290\n"
     ]
    }
   ],
   "source": [
    "#Задание 2_c\n",
    "last_year = sorted(df['Order Date'].dt.year.unique())[-1:]\n",
    "task1_c = df[df['Order Date'].dt.year.isin(last_year)].groupby('Sub-Category', as_index=False).agg({'Sales': 'sum', 'ID': 'count'})\n",
    "task1_c.columns = ['Sub-Category', 'Sales_sum', 'ID_count']\n",
    "#для удобства выведем цифры в читаемом виде\n",
    "print(task1_c.sort_values('Sales_sum', ascending= False)[:4].to_string(float_format='{:,.2f}'.format).replace(',', ' ') , '\\n')\n",
    "print(task1_c.sort_values('ID_count', ascending= False)[:4].to_string(float_format='{:,.2f}'.format).replace(',', ' '))"
   ]
  },
  {
   "cell_type": "code",
   "execution_count": 80,
   "metadata": {},
   "outputs": [
    {
     "data": {
      "image/png": "[encoded data removed]",
      "text/plain": [
       "<Figure size 1600x600 with 2 Axes>"
      ]
     },
     "metadata": {},
     "output_type": "display_data"
    }
   ],
   "source": [
    "%matplotlib inline\n",
    "fig, axes = plt.subplots(nrows=1, ncols=2, figsize=(16, 6))\n",
    "\n",
    "# 1. Boxplot с выбросами\n",
    "axes[0].boxplot(df['Sales'], vert=False, patch_artist=True, showfliers=True,\n",
    "                 boxprops=dict(facecolor='lightblue'),\n",
    "                 medianprops=dict(color='red', linewidth=2))\n",
    "axes[0].set_xlabel('Продажи (Sales)')\n",
    "axes[0].set_title('Boxplot продаж (с выбросами)')\n",
    "mean_value = df['Sales'].mean()\n",
    "axes[0].axvline(mean_value, color='blue', linestyle='--')\n",
    "axes[0].text(mean_value + 100, 1.05, f'Среднее: {mean_value:.2f}', \n",
    "             color='blue', fontsize=10, ha='left', va='center')\n",
    "\n",
    "# 2. Boxplot без выбросов (правило 3σ)\n",
    "mean = df['Sales'].mean()\n",
    "std = df['Sales'].std()\n",
    "lower_bound = mean - 3 * std\n",
    "upper_bound = mean + 3 * std\n",
    "filtered_df = df[(df['Sales'] >= lower_bound) & (df['Sales'] <= upper_bound)]\n",
    "\n",
    "axes[1].boxplot(filtered_df['Sales'], vert=False, patch_artist=True, showfliers=True,\n",
    "                 boxprops=dict(facecolor='lightgreen'),\n",
    "                 medianprops=dict(color='blue', linewidth=2))\n",
    "axes[1].set_xlabel('Продажи (Sales)')\n",
    "axes[1].set_title('Boxplot продаж (без выбросов, правило 3σ)')\n",
    "mean_value = filtered_df['Sales'].mean()\n",
    "axes[1].axvline(mean_value, color='blue', linestyle='--')\n",
    "axes[1].text(mean_value + 100, 1.05, f'Среднее: {mean_value:.2f}', \n",
    "             color='blue', fontsize=10, ha='left', va='center')\n",
    "plt.tight_layout()  # Автоматическое выравнивание subplots\n",
    "plt.show()"
   ]
  },
  {
   "cell_type": "code",
   "execution_count": null,
   "metadata": {},
   "outputs": [],
   "source": []
  }
 ],
 "metadata": {
  "kernelspec": {
   "display_name": "Python 3",
   "language": "python",
   "name": "python3"
  },
  "language_info": {
   "codemirror_mode": {
    "name": "ipython",
    "version": 3
   },
   "file_extension": ".py",
   "mimetype": "text/x-python",
   "name": "python",
   "nbconvert_exporter": "python",
   "pygments_lexer": "ipython3",
   "version": "3.12.5"
  }
 },
 "nbformat": 4,
 "nbformat_minor": 2
}
