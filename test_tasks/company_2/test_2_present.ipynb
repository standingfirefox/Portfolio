{
 "cells": [
  {
   "cell_type": "code",
   "execution_count": 12,
   "metadata": {},
   "outputs": [
    {
     "data": {
      "application/vnd.jupyter.widget-view+json": {
       "model_id": "e60db742e8b648f29d7541c570dfc7e7",
       "version_major": 2,
       "version_minor": 0
      },
      "text/plain": [
       "interactive(children=(Dropdown(description='Компания:', options=('Абрау-Дюрсо', 'Система', 'Аэрофлот', 'Русагр…"
      ]
     },
     "metadata": {},
     "output_type": "display_data"
    },
    {
     "data": {
      "text/plain": [
       "<function __main__.plot_distribution(company_name, timedelta)>"
      ]
     },
     "execution_count": 12,
     "metadata": {},
     "output_type": "execute_result"
    }
   ],
   "source": [
    "import pandas as pd\n",
    "import numpy as np\n",
    "import matplotlib.pyplot as plt\n",
    "from ipywidgets import interact, Dropdown\n",
    "from scipy.stats import norm\n",
    "\n",
    "# Создаем пример DataFrame (замените на ваш)\n",
    "df = pd.read_excel(r'C:\\\\Users\\\\Maksim\\\\Desktop\\\\to_present.xlsx')\n",
    "\n",
    "# Функция для построения графика и вывода статистики\n",
    "def plot_distribution(company_name, timedelta):\n",
    "    filtered_df = df[(df['Company_Name'] == company_name) & (df['Timedelta'] == timedelta)]\n",
    "    \n",
    "    if len(filtered_df) > 0:\n",
    "        plt.figure(figsize=(8, 6))\n",
    "        plt.hist(filtered_df['Value'], bins=10, edgecolor='black')\n",
    "        plt.title(f'Распределение Value для {company_name} ({timedelta})')\n",
    "        plt.xlabel('Value')\n",
    "        plt.ylabel('Частота')\n",
    "\n",
    "        mean_value = filtered_df['Value'].mean()\n",
    "        std_value = filtered_df['Value'].std()\n",
    "        var_05 = np.percentile(filtered_df['Value'], 0.5)\n",
    "        var_25 = np.percentile(filtered_df['Value'], 2.5)\n",
    "        \n",
    "        # Дельта-нормальный VaR\n",
    "        var_norm_95 = norm.ppf(0.05, loc=mean_value, scale=std_value)\n",
    "        var_norm_99 = norm.ppf(0.01, loc=mean_value, scale=std_value)\n",
    "\n",
    "        # Выводим статистику справа от графика\n",
    "        plt.text(1.05, 0.9, f'Среднее: {mean_value:.2f}', transform=plt.gca().transAxes)\n",
    "        plt.text(1.05, 0.85, f'Ст. отклонение: {std_value:.2f}', transform=plt.gca().transAxes)\n",
    "        plt.text(1.05, 0.8,  f'Исторический VaR 0,5%: {var_05:.2f}', transform=plt.gca().transAxes)\n",
    "        plt.text(1.05, 0.75, f'Исторический VaR 2,5%: {var_25:.2f}', transform=plt.gca().transAxes)\n",
    "        plt.text(1.05, 0.7,  f'Дельта-нормальный VaR 95%: {var_norm_95:.2f}', transform=plt.gca().transAxes)\n",
    "        plt.text(1.05, 0.65, f'Дельта-нормальный VaR 99%: {var_norm_99:.2f}', transform=plt.gca().transAxes)\n",
    "        \n",
    "        plt.subplots_adjust(right=0.75)  # Освобождаем место для текста справа\n",
    "        plt.show()\n",
    "    else:\n",
    "        print(f'Нет данных для {company_name} ({timedelta})')\n",
    "\n",
    "# Создаем выпадающие списки \n",
    "company_names = df['Company_Name'].unique()\n",
    "timedeltas = df['Timedelta'].unique()\n",
    "\n",
    "interact(plot_distribution, \n",
    "         company_name=Dropdown(options=company_names, description='Компания:'),\n",
    "         timedelta=Dropdown(options=timedeltas, description='Период:'))"
   ]
  },
  {
   "cell_type": "code",
   "execution_count": null,
   "metadata": {},
   "outputs": [],
   "source": []
  }
 ],
 "metadata": {
  "kernelspec": {
   "display_name": "Python 3",
   "language": "python",
   "name": "python3"
  },
  "language_info": {
   "codemirror_mode": {
    "name": "ipython",
    "version": 3
   },
   "file_extension": ".py",
   "mimetype": "text/x-python",
   "name": "python",
   "nbconvert_exporter": "python",
   "pygments_lexer": "ipython3",
   "version": "3.12.5"
  }
 },
 "nbformat": 4,
 "nbformat_minor": 2
}
